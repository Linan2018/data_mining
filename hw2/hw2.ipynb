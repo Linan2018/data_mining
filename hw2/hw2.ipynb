{
 "cells": [
  {
   "cell_type": "code",
   "execution_count": 1,
   "metadata": {},
   "outputs": [],
   "source": [
    "import pandas as pd\n",
    "import numpy as np"
   ]
  },
  {
   "cell_type": "code",
   "execution_count": 2,
   "metadata": {},
   "outputs": [],
   "source": [
    "data_path = \"./data/house-votes-84.data\""
   ]
  },
  {
   "cell_type": "code",
   "execution_count": 3,
   "metadata": {},
   "outputs": [
    {
     "name": "stdout",
     "output_type": "stream",
     "text": [
      "data_df.shape = (435, 17)\n"
     ]
    }
   ],
   "source": [
    "data_df =  pd.read_table(data_path, header=None, sep=',')\n",
    "print(\"data_df.shape =\",data_df.shape)"
   ]
  },
  {
   "cell_type": "code",
   "execution_count": 4,
   "metadata": {},
   "outputs": [],
   "source": [
    "# process raw data\n",
    "data_ar = np.array(data_df)\n",
    "n_att_raw = data_ar.shape[1]\n",
    "\n",
    "n_item = data_ar.shape[0]\n",
    "n_att = n_att_raw * 2\n",
    "\n",
    "data = np.zeros((n_item, n_att))\n",
    "for i in range(n_item):\n",
    "    if data_ar[i][0] == 'democrat':\n",
    "        data[i][0] = 1\n",
    "    else:\n",
    "        data[i][n_att_raw] = 1\n",
    "    for j in range(1, n_att_raw):\n",
    "        if data_ar[i][j] == 'y':\n",
    "            data[i][j] = 1\n",
    "        elif data_ar[i][j] == 'n':\n",
    "            data[i][j + n_att_raw] = 1"
   ]
  },
  {
   "cell_type": "code",
   "execution_count": 5,
   "metadata": {},
   "outputs": [
    {
     "name": "stdout",
     "output_type": "stream",
     "text": [
      "[[0. 0. 1. ... 0. 1. 0.]\n",
      " [0. 0. 1. ... 0. 1. 0.]\n",
      " [1. 0. 1. ... 0. 1. 1.]\n",
      " ...\n",
      " [0. 0. 0. ... 0. 1. 0.]\n",
      " [0. 0. 0. ... 0. 1. 0.]\n",
      " [0. 0. 1. ... 0. 0. 1.]]\n"
     ]
    }
   ],
   "source": [
    "attribute_information = [\n",
    "    'Class Name: democrat',\n",
    "    'handicapped-infants: yes',\n",
    "    'water-project-cost-sharing: yes',\n",
    "    'adoption-of-the-budget-resolution: yes',\n",
    "    'physician-fee-freeze: yes',\n",
    "    'el-salvador-aid: yes',\n",
    "    'religious-groups-in-schools: yes',\n",
    "    'anti-satellite-test-ban: yes',\n",
    "    'aid-to-nicaraguan-contras: yes',\n",
    "    'mx-missile: yes',\n",
    "    'immigration: yes',\n",
    "    'synfuels-corporation-cutback: yes',\n",
    "    'education-spending: yes',\n",
    "    'superfund-right-to-sue: yes',\n",
    "    'crime: yes',\n",
    "    'duty-free-exports: yes',\n",
    "    'export-administration-act-south-africa: yes',\n",
    "    'Class Name: republican',\n",
    "    'handicapped-infants: no',\n",
    "    'water-project-cost-sharing: no',\n",
    "    'adoption-of-the-budget-resolution: no',\n",
    "    'physician-fee-freeze: no',\n",
    "    'el-salvador-aid: no',\n",
    "    'religious-groups-in-schools: no',\n",
    "    'anti-satellite-test-ban: no',\n",
    "    'aid-to-nicaraguan-contras: no',\n",
    "    'mx-missile: no',\n",
    "    'immigration: no',\n",
    "    'synfuels-corporation-cutback: no',\n",
    "    'education-spending: no',\n",
    "    'superfund-right-to-sue: no',\n",
    "    'crime: no',\n",
    "    'duty-free-exports: no',\n",
    "    'export-administration-act-south-africa: no'\n",
    "]\n",
    "print(data)"
   ]
  },
  {
   "cell_type": "code",
   "execution_count": 6,
   "metadata": {},
   "outputs": [],
   "source": [
    "def gen_next_fi(l):\n",
    "    # generate candidate itemset according to last frequent itemset\n",
    "    # l is a list containing all k-item frequent itemset\n",
    "    # e.g. l=[{1,2,3},{2,3,5},{4,6,9},...]\n",
    "    if not l:\n",
    "        return []\n",
    "    new_l = []\n",
    "    k = len(l[0])\n",
    "    len_l = len(l)\n",
    "    for i in range(len_l):\n",
    "        for j in range(i + 1, len_l):\n",
    "            itemset1 = l[i]\n",
    "            itemset2 = l[j]\n",
    "            set1_test = sorted(itemset1)\n",
    "            set2_test = sorted(itemset2)\n",
    "            if set1_test[: k-1] == set2_test[: k-1]:\n",
    "                new_l.append(itemset1 | itemset2)\n",
    "    return new_l"
   ]
  },
  {
   "cell_type": "code",
   "execution_count": 7,
   "metadata": {},
   "outputs": [],
   "source": [
    "def find_k_fi(l, support):\n",
    "    # generate frequent itemset according to the candidate itemset\n",
    "    # e.g. l=[{1,2,3},{2,3,5},{4,6,9},...]\n",
    "    if not l:\n",
    "        return []\n",
    "    global data\n",
    "    n = len(data)\n",
    "    d = {}\n",
    "    k = len(l[0]) \n",
    "    \n",
    "    # gerate keys for d\n",
    "    for itemset in l:\n",
    "        d[tuple(sorted(itemset))] = 0\n",
    "        d[tuple(sorted(itemset))] = 0\n",
    "    \n",
    "    # compute support for each itemset\n",
    "    for key in d.keys():\n",
    "        for line in data:\n",
    "            s = 0\n",
    "            for a in key:\n",
    "                if line[a]:\n",
    "                    s += 1\n",
    "            if s == k:\n",
    "                d[key] += 1\n",
    "    l_l = []\n",
    "    for key in list(d.keys()):\n",
    "        if d[key] / n < 0.3:\n",
    "            del d[key]\n",
    "        else:\n",
    "            if set(key) not in l_l:\n",
    "                l_l.append(set(key))\n",
    "                \n",
    "    return d, l_l"
   ]
  },
  {
   "cell_type": "code",
   "execution_count": 8,
   "metadata": {
    "scrolled": true
   },
   "outputs": [
    {
     "name": "stdout",
     "output_type": "stream",
     "text": [
      "k: 0\n",
      "length of l_k): 34\n",
      "k: 1\n",
      "length of l_k): 528\n",
      "k: 2\n",
      "length of l_k): 693\n",
      "k: 3\n",
      "length of l_k): 700\n",
      "k: 4\n",
      "length of l_k): 332\n",
      "k: 5\n",
      "length of l_k): 123\n",
      "k: 6\n",
      "length of l_k): 32\n",
      "k: 7\n",
      "length of l_k): 3\n",
      "k_max = 7\n",
      "done\n"
     ]
    }
   ],
   "source": [
    "# init l_att_comb\n",
    "l_att_comb = []\n",
    "for i in range(n_att):\n",
    "    l_att_comb.append({i})\n",
    "# l_att_comb is a list containing all 1-item frequent itemset\n",
    "# gen_next_fi(l_att_comb)is a list containing all 2-item frequent itemset\n",
    "# etc\n",
    "        \n",
    "# F[i] contain frequent itemset and support \n",
    "#      with the length of itemset is i+1\n",
    "F = [] \n",
    "\n",
    "for k in range(n_att):\n",
    "    print('k:', k)\n",
    "    print('length of l_k):', len(l_att_comb))\n",
    "    c_k, l_next = find_k_fi(l_att_comb, support=0.3)\n",
    "    F.append(c_k)\n",
    "    l_att_comb = gen_next_fi(l_next)\n",
    "    if not len(l_att_comb):\n",
    "        break\n",
    "print(\"k_max =\", k)\n",
    "print(\"done\")"
   ]
  },
  {
   "cell_type": "code",
   "execution_count": 9,
   "metadata": {},
   "outputs": [],
   "source": [
    "def get_subset(s):\n",
    "    # return all subsets of set s\n",
    "    # s is iterable and return is a list \n",
    "    n = len(s)\n",
    "    result = []\n",
    "    for i in range(2 ** n): \n",
    "        combo = []\n",
    "        for j in range(n):\n",
    "            if(i >> j) % 2:\n",
    "                combo.append(s[j])\n",
    "        result.append(combo)\n",
    "    result.remove([])\n",
    "    result.remove(list(s))\n",
    "    \n",
    "    return result"
   ]
  },
  {
   "cell_type": "code",
   "execution_count": 10,
   "metadata": {},
   "outputs": [],
   "source": [
    "def gen_rules(k_, confidence):\n",
    "    global F, data\n",
    "    r = []\n",
    "    f = F[k_-1]\n",
    "    for itemset, sup in f.items():\n",
    "        # e.g. itemset==(0, 3, 8, 16)\n",
    "        #      sup==138\n",
    "        sup1 = sup\n",
    "        subset = get_subset(itemset)\n",
    "        for ss in subset:\n",
    "            # ss is a sub set of itemset\n",
    "            # conf : sup(itemset) / sup(ss)\n",
    "            # rule : ss -> itemset - ss\n",
    "            if len(ss) > 1:\n",
    "                sup2 = F[len(ss)-1][tuple(sorted(ss))]\n",
    "                conf = sup1 / sup2\n",
    "                if conf >= confidence:\n",
    "                    r.append((set(ss), set(itemset)-set(ss), conf))\n",
    "    return r"
   ]
  },
  {
   "cell_type": "code",
   "execution_count": 11,
   "metadata": {
    "scrolled": false
   },
   "outputs": [],
   "source": [
    "rules = [[],]\n",
    "# rules[i] contain (rule, support) with the length of itemset is i\n",
    "for i in range(1, k+1):\n",
    "    rules.append(gen_rules(i, confidence=0.9))"
   ]
  },
  {
   "cell_type": "code",
   "execution_count": 12,
   "metadata": {},
   "outputs": [],
   "source": [
    "def save_result(result, path):\n",
    "    global attribute_information\n",
    "    with open(path, 'w') as f:\n",
    "        for rs_k in result:\n",
    "            if rs_k:\n",
    "                for a, b, conf in rs_k:\n",
    "                    # e.g. a, b, conf =({7, 9}, {0}, 0.971)\n",
    "                    a = set([attribute_information[i] for i in a])\n",
    "                    b = set([attribute_information[i] for i in b])\n",
    "                    conf = \"confidence: {}\".format(conf)\n",
    "                    f.write(str((a, b, conf)) + '\\n')"
   ]
  },
  {
   "cell_type": "code",
   "execution_count": 13,
   "metadata": {},
   "outputs": [],
   "source": [
    "save_path = './result.txt'\n",
    "save_result(rules, save_path)"
   ]
  },
  {
   "cell_type": "code",
   "execution_count": null,
   "metadata": {},
   "outputs": [],
   "source": []
  }
 ],
 "metadata": {
  "kernelspec": {
   "display_name": "Python 3",
   "language": "python",
   "name": "python3"
  },
  "language_info": {
   "codemirror_mode": {
    "name": "ipython",
    "version": 3
   },
   "file_extension": ".py",
   "mimetype": "text/x-python",
   "name": "python",
   "nbconvert_exporter": "python",
   "pygments_lexer": "ipython3",
   "version": "3.6.3"
  }
 },
 "nbformat": 4,
 "nbformat_minor": 2
}
